{
 "cells": [
  {
   "cell_type": "markdown",
   "metadata": {},
   "source": [
    "# Agreement between methods of measurement with multiple observations per individual\n",
    "> Understanding this Bland-Altman article.\n",
    "\n",
    "- toc: true \n",
    "- badges: true\n",
    "- comments: true\n",
    "- categories: [jupyter]\n",
    "- image: images/chart-preview.png"
   ]
  },
  {
   "cell_type": "code",
   "execution_count": 1,
   "metadata": {},
   "outputs": [],
   "source": [
    "# hide\n",
    "import numpy as np\n",
    "import pandas as pd\n",
    "import matplotlib.pyplot as plt"
   ]
  },
  {
   "cell_type": "markdown",
   "metadata": {},
   "source": [
    "# Introduction\n",
    "\n",
    "The limits of agreement (LoA) method is widely used for assessing the agreement between two methods of measurement. The case that motivates this method is when each individual has one measurement made by each of the methods. \n",
    "\n",
    "However, it may be also the case that we have replicate measurements by each method on each individual, so that the repeatability of the two methods can be compared. This paper shows how to apply the LoA method when we have repeated measurements on each of a group of subjects. In this case, there are two separate situations: when the true value varies and when the true value is constant."
   ]
  },
  {
   "cell_type": "markdown",
   "metadata": {},
   "source": [
    "# Concepts"
   ]
  },
  {
   "cell_type": "code",
   "execution_count": 2,
   "metadata": {
    "scrolled": true
   },
   "outputs": [
    {
     "data": {
      "text/html": [
       "<div>\n",
       "<style scoped>\n",
       "    .dataframe tbody tr th:only-of-type {\n",
       "        vertical-align: middle;\n",
       "    }\n",
       "\n",
       "    .dataframe tbody tr th {\n",
       "        vertical-align: top;\n",
       "    }\n",
       "\n",
       "    .dataframe thead th {\n",
       "        text-align: right;\n",
       "    }\n",
       "</style>\n",
       "<table border=\"1\" class=\"dataframe\">\n",
       "  <thead>\n",
       "    <tr style=\"text-align: right;\">\n",
       "      <th></th>\n",
       "      <th>subject</th>\n",
       "      <th>method1</th>\n",
       "      <th>method2</th>\n",
       "      <th>errors</th>\n",
       "      <th>means</th>\n",
       "    </tr>\n",
       "  </thead>\n",
       "  <tbody>\n",
       "    <tr>\n",
       "      <th>0</th>\n",
       "      <td>1</td>\n",
       "      <td>7.83</td>\n",
       "      <td>6.57</td>\n",
       "      <td>1.26</td>\n",
       "      <td>7.200</td>\n",
       "    </tr>\n",
       "    <tr>\n",
       "      <th>1</th>\n",
       "      <td>1</td>\n",
       "      <td>7.42</td>\n",
       "      <td>5.62</td>\n",
       "      <td>1.80</td>\n",
       "      <td>6.520</td>\n",
       "    </tr>\n",
       "    <tr>\n",
       "      <th>2</th>\n",
       "      <td>1</td>\n",
       "      <td>7.89</td>\n",
       "      <td>6.90</td>\n",
       "      <td>0.99</td>\n",
       "      <td>7.395</td>\n",
       "    </tr>\n",
       "    <tr>\n",
       "      <th>3</th>\n",
       "      <td>1</td>\n",
       "      <td>7.12</td>\n",
       "      <td>6.57</td>\n",
       "      <td>0.55</td>\n",
       "      <td>6.845</td>\n",
       "    </tr>\n",
       "    <tr>\n",
       "      <th>4</th>\n",
       "      <td>1</td>\n",
       "      <td>7.88</td>\n",
       "      <td>6.35</td>\n",
       "      <td>1.53</td>\n",
       "      <td>7.115</td>\n",
       "    </tr>\n",
       "    <tr>\n",
       "      <th>5</th>\n",
       "      <td>2</td>\n",
       "      <td>6.16</td>\n",
       "      <td>4.06</td>\n",
       "      <td>2.10</td>\n",
       "      <td>5.110</td>\n",
       "    </tr>\n",
       "    <tr>\n",
       "      <th>6</th>\n",
       "      <td>2</td>\n",
       "      <td>7.26</td>\n",
       "      <td>4.29</td>\n",
       "      <td>2.97</td>\n",
       "      <td>5.775</td>\n",
       "    </tr>\n",
       "    <tr>\n",
       "      <th>7</th>\n",
       "      <td>2</td>\n",
       "      <td>6.71</td>\n",
       "      <td>4.26</td>\n",
       "      <td>2.45</td>\n",
       "      <td>5.485</td>\n",
       "    </tr>\n",
       "    <tr>\n",
       "      <th>8</th>\n",
       "      <td>2</td>\n",
       "      <td>6.54</td>\n",
       "      <td>4.09</td>\n",
       "      <td>2.45</td>\n",
       "      <td>5.315</td>\n",
       "    </tr>\n",
       "    <tr>\n",
       "      <th>9</th>\n",
       "      <td>2</td>\n",
       "      <td>4.75</td>\n",
       "      <td>4.71</td>\n",
       "      <td>0.04</td>\n",
       "      <td>4.730</td>\n",
       "    </tr>\n",
       "    <tr>\n",
       "      <th>10</th>\n",
       "      <td>3</td>\n",
       "      <td>5.24</td>\n",
       "      <td>5.50</td>\n",
       "      <td>-0.26</td>\n",
       "      <td>5.370</td>\n",
       "    </tr>\n",
       "    <tr>\n",
       "      <th>11</th>\n",
       "      <td>3</td>\n",
       "      <td>4.86</td>\n",
       "      <td>5.08</td>\n",
       "      <td>-0.22</td>\n",
       "      <td>4.970</td>\n",
       "    </tr>\n",
       "    <tr>\n",
       "      <th>12</th>\n",
       "      <td>3</td>\n",
       "      <td>4.78</td>\n",
       "      <td>5.02</td>\n",
       "      <td>-0.24</td>\n",
       "      <td>4.900</td>\n",
       "    </tr>\n",
       "    <tr>\n",
       "      <th>13</th>\n",
       "      <td>3</td>\n",
       "      <td>6.05</td>\n",
       "      <td>6.01</td>\n",
       "      <td>0.04</td>\n",
       "      <td>6.030</td>\n",
       "    </tr>\n",
       "    <tr>\n",
       "      <th>14</th>\n",
       "      <td>3</td>\n",
       "      <td>5.42</td>\n",
       "      <td>5.67</td>\n",
       "      <td>-0.25</td>\n",
       "      <td>5.545</td>\n",
       "    </tr>\n",
       "    <tr>\n",
       "      <th>15</th>\n",
       "      <td>4</td>\n",
       "      <td>4.21</td>\n",
       "      <td>4.14</td>\n",
       "      <td>0.07</td>\n",
       "      <td>4.175</td>\n",
       "    </tr>\n",
       "    <tr>\n",
       "      <th>16</th>\n",
       "      <td>4</td>\n",
       "      <td>3.61</td>\n",
       "      <td>4.20</td>\n",
       "      <td>-0.59</td>\n",
       "      <td>3.905</td>\n",
       "    </tr>\n",
       "    <tr>\n",
       "      <th>17</th>\n",
       "      <td>4</td>\n",
       "      <td>3.72</td>\n",
       "      <td>4.61</td>\n",
       "      <td>-0.89</td>\n",
       "      <td>4.165</td>\n",
       "    </tr>\n",
       "    <tr>\n",
       "      <th>18</th>\n",
       "      <td>4</td>\n",
       "      <td>3.87</td>\n",
       "      <td>4.68</td>\n",
       "      <td>-0.81</td>\n",
       "      <td>4.275</td>\n",
       "    </tr>\n",
       "    <tr>\n",
       "      <th>19</th>\n",
       "      <td>4</td>\n",
       "      <td>3.92</td>\n",
       "      <td>5.04</td>\n",
       "      <td>-1.12</td>\n",
       "      <td>4.480</td>\n",
       "    </tr>\n",
       "    <tr>\n",
       "      <th>20</th>\n",
       "      <td>5</td>\n",
       "      <td>3.13</td>\n",
       "      <td>3.03</td>\n",
       "      <td>0.10</td>\n",
       "      <td>3.080</td>\n",
       "    </tr>\n",
       "    <tr>\n",
       "      <th>21</th>\n",
       "      <td>5</td>\n",
       "      <td>2.98</td>\n",
       "      <td>2.86</td>\n",
       "      <td>0.12</td>\n",
       "      <td>2.920</td>\n",
       "    </tr>\n",
       "    <tr>\n",
       "      <th>22</th>\n",
       "      <td>5</td>\n",
       "      <td>2.85</td>\n",
       "      <td>2.77</td>\n",
       "      <td>0.08</td>\n",
       "      <td>2.810</td>\n",
       "    </tr>\n",
       "    <tr>\n",
       "      <th>23</th>\n",
       "      <td>5</td>\n",
       "      <td>3.17</td>\n",
       "      <td>2.46</td>\n",
       "      <td>0.71</td>\n",
       "      <td>2.815</td>\n",
       "    </tr>\n",
       "    <tr>\n",
       "      <th>24</th>\n",
       "      <td>5</td>\n",
       "      <td>3.09</td>\n",
       "      <td>2.32</td>\n",
       "      <td>0.77</td>\n",
       "      <td>2.705</td>\n",
       "    </tr>\n",
       "    <tr>\n",
       "      <th>25</th>\n",
       "      <td>6</td>\n",
       "      <td>3.12</td>\n",
       "      <td>2.43</td>\n",
       "      <td>0.69</td>\n",
       "      <td>2.775</td>\n",
       "    </tr>\n",
       "    <tr>\n",
       "      <th>26</th>\n",
       "      <td>6</td>\n",
       "      <td>5.92</td>\n",
       "      <td>5.90</td>\n",
       "      <td>0.02</td>\n",
       "      <td>5.910</td>\n",
       "    </tr>\n",
       "    <tr>\n",
       "      <th>27</th>\n",
       "      <td>6</td>\n",
       "      <td>6.42</td>\n",
       "      <td>5.81</td>\n",
       "      <td>0.61</td>\n",
       "      <td>6.115</td>\n",
       "    </tr>\n",
       "    <tr>\n",
       "      <th>28</th>\n",
       "      <td>6</td>\n",
       "      <td>5.92</td>\n",
       "      <td>5.70</td>\n",
       "      <td>0.22</td>\n",
       "      <td>5.810</td>\n",
       "    </tr>\n",
       "    <tr>\n",
       "      <th>29</th>\n",
       "      <td>7</td>\n",
       "      <td>6.27</td>\n",
       "      <td>5.76</td>\n",
       "      <td>0.51</td>\n",
       "      <td>6.015</td>\n",
       "    </tr>\n",
       "    <tr>\n",
       "      <th>30</th>\n",
       "      <td>7</td>\n",
       "      <td>7.13</td>\n",
       "      <td>5.09</td>\n",
       "      <td>2.04</td>\n",
       "      <td>6.110</td>\n",
       "    </tr>\n",
       "    <tr>\n",
       "      <th>31</th>\n",
       "      <td>7</td>\n",
       "      <td>6.62</td>\n",
       "      <td>4.63</td>\n",
       "      <td>1.99</td>\n",
       "      <td>5.625</td>\n",
       "    </tr>\n",
       "    <tr>\n",
       "      <th>32</th>\n",
       "      <td>7</td>\n",
       "      <td>6.58</td>\n",
       "      <td>4.61</td>\n",
       "      <td>1.97</td>\n",
       "      <td>5.595</td>\n",
       "    </tr>\n",
       "    <tr>\n",
       "      <th>33</th>\n",
       "      <td>8</td>\n",
       "      <td>6.93</td>\n",
       "      <td>5.09</td>\n",
       "      <td>1.84</td>\n",
       "      <td>6.010</td>\n",
       "    </tr>\n",
       "    <tr>\n",
       "      <th>34</th>\n",
       "      <td>8</td>\n",
       "      <td>4.54</td>\n",
       "      <td>4.72</td>\n",
       "      <td>-0.18</td>\n",
       "      <td>4.630</td>\n",
       "    </tr>\n",
       "    <tr>\n",
       "      <th>35</th>\n",
       "      <td>8</td>\n",
       "      <td>4.81</td>\n",
       "      <td>4.61</td>\n",
       "      <td>0.20</td>\n",
       "      <td>4.710</td>\n",
       "    </tr>\n",
       "    <tr>\n",
       "      <th>36</th>\n",
       "      <td>8</td>\n",
       "      <td>5.11</td>\n",
       "      <td>4.36</td>\n",
       "      <td>0.75</td>\n",
       "      <td>4.735</td>\n",
       "    </tr>\n",
       "    <tr>\n",
       "      <th>37</th>\n",
       "      <td>8</td>\n",
       "      <td>5.29</td>\n",
       "      <td>4.20</td>\n",
       "      <td>1.09</td>\n",
       "      <td>4.745</td>\n",
       "    </tr>\n",
       "    <tr>\n",
       "      <th>38</th>\n",
       "      <td>8</td>\n",
       "      <td>5.39</td>\n",
       "      <td>4.36</td>\n",
       "      <td>1.03</td>\n",
       "      <td>4.875</td>\n",
       "    </tr>\n",
       "    <tr>\n",
       "      <th>39</th>\n",
       "      <td>8</td>\n",
       "      <td>5.57</td>\n",
       "      <td>4.20</td>\n",
       "      <td>1.37</td>\n",
       "      <td>4.885</td>\n",
       "    </tr>\n",
       "    <tr>\n",
       "      <th>40</th>\n",
       "      <td>9</td>\n",
       "      <td>4.48</td>\n",
       "      <td>3.17</td>\n",
       "      <td>1.31</td>\n",
       "      <td>3.825</td>\n",
       "    </tr>\n",
       "    <tr>\n",
       "      <th>41</th>\n",
       "      <td>9</td>\n",
       "      <td>4.92</td>\n",
       "      <td>3.12</td>\n",
       "      <td>1.80</td>\n",
       "      <td>4.020</td>\n",
       "    </tr>\n",
       "    <tr>\n",
       "      <th>42</th>\n",
       "      <td>9</td>\n",
       "      <td>3.97</td>\n",
       "      <td>2.96</td>\n",
       "      <td>1.01</td>\n",
       "      <td>3.465</td>\n",
       "    </tr>\n",
       "    <tr>\n",
       "      <th>43</th>\n",
       "      <td>10</td>\n",
       "      <td>4.22</td>\n",
       "      <td>4.35</td>\n",
       "      <td>-0.13</td>\n",
       "      <td>4.285</td>\n",
       "    </tr>\n",
       "    <tr>\n",
       "      <th>44</th>\n",
       "      <td>10</td>\n",
       "      <td>4.65</td>\n",
       "      <td>4.62</td>\n",
       "      <td>0.03</td>\n",
       "      <td>4.635</td>\n",
       "    </tr>\n",
       "    <tr>\n",
       "      <th>45</th>\n",
       "      <td>10</td>\n",
       "      <td>4.74</td>\n",
       "      <td>3.16</td>\n",
       "      <td>1.58</td>\n",
       "      <td>3.950</td>\n",
       "    </tr>\n",
       "    <tr>\n",
       "      <th>46</th>\n",
       "      <td>10</td>\n",
       "      <td>4.44</td>\n",
       "      <td>3.53</td>\n",
       "      <td>0.91</td>\n",
       "      <td>3.985</td>\n",
       "    </tr>\n",
       "    <tr>\n",
       "      <th>47</th>\n",
       "      <td>10</td>\n",
       "      <td>4.50</td>\n",
       "      <td>3.53</td>\n",
       "      <td>0.97</td>\n",
       "      <td>4.015</td>\n",
       "    </tr>\n",
       "    <tr>\n",
       "      <th>48</th>\n",
       "      <td>11</td>\n",
       "      <td>6.78</td>\n",
       "      <td>7.20</td>\n",
       "      <td>-0.42</td>\n",
       "      <td>6.990</td>\n",
       "    </tr>\n",
       "    <tr>\n",
       "      <th>49</th>\n",
       "      <td>11</td>\n",
       "      <td>6.07</td>\n",
       "      <td>6.09</td>\n",
       "      <td>-0.02</td>\n",
       "      <td>6.080</td>\n",
       "    </tr>\n",
       "    <tr>\n",
       "      <th>50</th>\n",
       "      <td>11</td>\n",
       "      <td>6.52</td>\n",
       "      <td>7.00</td>\n",
       "      <td>-0.48</td>\n",
       "      <td>6.760</td>\n",
       "    </tr>\n",
       "    <tr>\n",
       "      <th>51</th>\n",
       "      <td>11</td>\n",
       "      <td>6.42</td>\n",
       "      <td>7.10</td>\n",
       "      <td>-0.68</td>\n",
       "      <td>6.760</td>\n",
       "    </tr>\n",
       "    <tr>\n",
       "      <th>52</th>\n",
       "      <td>11</td>\n",
       "      <td>6.41</td>\n",
       "      <td>7.40</td>\n",
       "      <td>-0.99</td>\n",
       "      <td>6.905</td>\n",
       "    </tr>\n",
       "    <tr>\n",
       "      <th>53</th>\n",
       "      <td>11</td>\n",
       "      <td>5.76</td>\n",
       "      <td>6.80</td>\n",
       "      <td>-1.04</td>\n",
       "      <td>6.280</td>\n",
       "    </tr>\n",
       "    <tr>\n",
       "      <th>54</th>\n",
       "      <td>12</td>\n",
       "      <td>5.06</td>\n",
       "      <td>4.50</td>\n",
       "      <td>0.56</td>\n",
       "      <td>4.780</td>\n",
       "    </tr>\n",
       "    <tr>\n",
       "      <th>55</th>\n",
       "      <td>12</td>\n",
       "      <td>4.72</td>\n",
       "      <td>4.20</td>\n",
       "      <td>0.52</td>\n",
       "      <td>4.460</td>\n",
       "    </tr>\n",
       "    <tr>\n",
       "      <th>56</th>\n",
       "      <td>12</td>\n",
       "      <td>4.90</td>\n",
       "      <td>3.80</td>\n",
       "      <td>1.10</td>\n",
       "      <td>4.350</td>\n",
       "    </tr>\n",
       "    <tr>\n",
       "      <th>57</th>\n",
       "      <td>12</td>\n",
       "      <td>4.80</td>\n",
       "      <td>3.80</td>\n",
       "      <td>1.00</td>\n",
       "      <td>4.300</td>\n",
       "    </tr>\n",
       "    <tr>\n",
       "      <th>58</th>\n",
       "      <td>12</td>\n",
       "      <td>4.90</td>\n",
       "      <td>4.20</td>\n",
       "      <td>0.70</td>\n",
       "      <td>4.550</td>\n",
       "    </tr>\n",
       "    <tr>\n",
       "      <th>59</th>\n",
       "      <td>12</td>\n",
       "      <td>5.10</td>\n",
       "      <td>4.50</td>\n",
       "      <td>0.60</td>\n",
       "      <td>4.800</td>\n",
       "    </tr>\n",
       "  </tbody>\n",
       "</table>\n",
       "</div>"
      ],
      "text/plain": [
       "    subject  method1  method2  errors  means\n",
       "0         1     7.83     6.57    1.26  7.200\n",
       "1         1     7.42     5.62    1.80  6.520\n",
       "2         1     7.89     6.90    0.99  7.395\n",
       "3         1     7.12     6.57    0.55  6.845\n",
       "4         1     7.88     6.35    1.53  7.115\n",
       "5         2     6.16     4.06    2.10  5.110\n",
       "6         2     7.26     4.29    2.97  5.775\n",
       "7         2     6.71     4.26    2.45  5.485\n",
       "8         2     6.54     4.09    2.45  5.315\n",
       "9         2     4.75     4.71    0.04  4.730\n",
       "10        3     5.24     5.50   -0.26  5.370\n",
       "11        3     4.86     5.08   -0.22  4.970\n",
       "12        3     4.78     5.02   -0.24  4.900\n",
       "13        3     6.05     6.01    0.04  6.030\n",
       "14        3     5.42     5.67   -0.25  5.545\n",
       "15        4     4.21     4.14    0.07  4.175\n",
       "16        4     3.61     4.20   -0.59  3.905\n",
       "17        4     3.72     4.61   -0.89  4.165\n",
       "18        4     3.87     4.68   -0.81  4.275\n",
       "19        4     3.92     5.04   -1.12  4.480\n",
       "20        5     3.13     3.03    0.10  3.080\n",
       "21        5     2.98     2.86    0.12  2.920\n",
       "22        5     2.85     2.77    0.08  2.810\n",
       "23        5     3.17     2.46    0.71  2.815\n",
       "24        5     3.09     2.32    0.77  2.705\n",
       "25        6     3.12     2.43    0.69  2.775\n",
       "26        6     5.92     5.90    0.02  5.910\n",
       "27        6     6.42     5.81    0.61  6.115\n",
       "28        6     5.92     5.70    0.22  5.810\n",
       "29        7     6.27     5.76    0.51  6.015\n",
       "30        7     7.13     5.09    2.04  6.110\n",
       "31        7     6.62     4.63    1.99  5.625\n",
       "32        7     6.58     4.61    1.97  5.595\n",
       "33        8     6.93     5.09    1.84  6.010\n",
       "34        8     4.54     4.72   -0.18  4.630\n",
       "35        8     4.81     4.61    0.20  4.710\n",
       "36        8     5.11     4.36    0.75  4.735\n",
       "37        8     5.29     4.20    1.09  4.745\n",
       "38        8     5.39     4.36    1.03  4.875\n",
       "39        8     5.57     4.20    1.37  4.885\n",
       "40        9     4.48     3.17    1.31  3.825\n",
       "41        9     4.92     3.12    1.80  4.020\n",
       "42        9     3.97     2.96    1.01  3.465\n",
       "43       10     4.22     4.35   -0.13  4.285\n",
       "44       10     4.65     4.62    0.03  4.635\n",
       "45       10     4.74     3.16    1.58  3.950\n",
       "46       10     4.44     3.53    0.91  3.985\n",
       "47       10     4.50     3.53    0.97  4.015\n",
       "48       11     6.78     7.20   -0.42  6.990\n",
       "49       11     6.07     6.09   -0.02  6.080\n",
       "50       11     6.52     7.00   -0.48  6.760\n",
       "51       11     6.42     7.10   -0.68  6.760\n",
       "52       11     6.41     7.40   -0.99  6.905\n",
       "53       11     5.76     6.80   -1.04  6.280\n",
       "54       12     5.06     4.50    0.56  4.780\n",
       "55       12     4.72     4.20    0.52  4.460\n",
       "56       12     4.90     3.80    1.10  4.350\n",
       "57       12     4.80     3.80    1.00  4.300\n",
       "58       12     4.90     4.20    0.70  4.550\n",
       "59       12     5.10     4.50    0.60  4.800"
      ]
     },
     "execution_count": 2,
     "metadata": {},
     "output_type": "execute_result"
    }
   ],
   "source": [
    "data = pd.read_csv('observations_310320.csv')\n",
    "data['errors'] = data['method1'] - data['method2']\n",
    "data['means'] = (data['method1'] + data['method2'])/2\n",
    "# data['errors'] = data['errors'] / data['means']\n",
    "data"
   ]
  },
  {
   "cell_type": "code",
   "execution_count": 3,
   "metadata": {},
   "outputs": [
    {
     "data": {
      "text/plain": [
       "subject\n",
       "1     5\n",
       "2     5\n",
       "3     5\n",
       "4     5\n",
       "5     5\n",
       "6     4\n",
       "7     4\n",
       "8     7\n",
       "9     3\n",
       "10    5\n",
       "11    6\n",
       "12    6\n",
       "Name: errors, dtype: int64"
      ]
     },
     "execution_count": 3,
     "metadata": {},
     "output_type": "execute_result"
    }
   ],
   "source": [
    "counts = data.groupby('subject').count()['errors']\n",
    "counts"
   ]
  },
  {
   "cell_type": "markdown",
   "metadata": {},
   "source": [
    "# Method where the true value varies\n",
    "\n"
   ]
  },
  {
   "cell_type": "markdown",
   "metadata": {},
   "source": [
    "We want to estimate the mean difference and the standard deviation of differences about the mean. To do this, we must estimate two different variances:\n",
    "* That for repeated differences between the two methods on **the same subject**\n",
    "* That for repeated differences **between the averages** of the two methods **across subjects** \n",
    "\n",
    "The model is that the observed difference is the sum of the mean difference (bias), a random between subjects effect (heterogeneity) and a random error within the subject.\n",
    "\n",
    "$$e = \\mu + w_{\\text{inter}} + w_{\\text{intra}}$$\n",
    "\n",
    "This method assumes that **the within-subject (intra) variance is constant and observations within the subject are independent**, i.e. the variance that originates the errors in our model for two given subjects is the same, but the mean is not necessarily the same."
   ]
  },
  {
   "cell_type": "markdown",
   "metadata": {},
   "source": [
    "## Estimate $\\sigma^2_{\\text{intra}}$"
   ]
  },
  {
   "cell_type": "markdown",
   "metadata": {},
   "source": [
    "This variance can be estimated using the difference between matched pairs as a response. First, it should be checked that the variance is unrelated to the mean. Plotting the mean measurement for each subject against the standard deviation should show if there is any suggestion of that."
   ]
  },
  {
   "cell_type": "code",
   "execution_count": 4,
   "metadata": {
    "scrolled": true
   },
   "outputs": [
    {
     "data": {
      "image/png": "[encoded data removed]",
      "text/plain": [
       "<Figure size 432x288 with 1 Axes>"
      ]
     },
     "metadata": {
      "needs_background": "light"
     },
     "output_type": "display_data"
    }
   ],
   "source": [
    "subject_groups = data.groupby('subject')\n",
    "subj_variance = subject_groups.std()['errors'].sort_index()\n",
    "subj_mean = subject_groups.mean()['errors'].sort_index()\n",
    "\n",
    "plt.scatter(subj_mean, subj_variance)\n",
    "plt.ylabel('Standard deviation')\n",
    "plt.xlabel('Mean')\n",
    "plt.show()"
   ]
  },
  {
   "cell_type": "markdown",
   "metadata": {},
   "source": [
    "According to the article,\n",
    "\n",
    ">There is no suggestion that there is a relationship between the variability of the differences and the magnitude of the ejection fraction."
   ]
  },
  {
   "cell_type": "markdown",
   "metadata": {},
   "source": [
    "The one-way ANOVA is shown in the table below."
   ]
  },
  {
   "cell_type": "code",
   "execution_count": 5,
   "metadata": {},
   "outputs": [
    {
     "data": {
      "text/html": [
       "<div>\n",
       "<style scoped>\n",
       "    .dataframe tbody tr th:only-of-type {\n",
       "        vertical-align: middle;\n",
       "    }\n",
       "\n",
       "    .dataframe tbody tr th {\n",
       "        vertical-align: top;\n",
       "    }\n",
       "\n",
       "    .dataframe thead th {\n",
       "        text-align: right;\n",
       "    }\n",
       "</style>\n",
       "<table border=\"1\" class=\"dataframe\">\n",
       "  <thead>\n",
       "    <tr style=\"text-align: right;\">\n",
       "      <th></th>\n",
       "      <th>df</th>\n",
       "      <th>sum_sq</th>\n",
       "      <th>mean_sq</th>\n",
       "      <th>F</th>\n",
       "      <th>PR(&gt;F)</th>\n",
       "    </tr>\n",
       "  </thead>\n",
       "  <tbody>\n",
       "    <tr>\n",
       "      <th>subject</th>\n",
       "      <td>11.0</td>\n",
       "      <td>38.797808</td>\n",
       "      <td>3.527073</td>\n",
       "      <td>10.785875</td>\n",
       "      <td>1.250117e-09</td>\n",
       "    </tr>\n",
       "    <tr>\n",
       "      <th>Residual</th>\n",
       "      <td>48.0</td>\n",
       "      <td>15.696411</td>\n",
       "      <td>0.327009</td>\n",
       "      <td>NaN</td>\n",
       "      <td>NaN</td>\n",
       "    </tr>\n",
       "  </tbody>\n",
       "</table>\n",
       "</div>"
      ],
      "text/plain": [
       "            df     sum_sq   mean_sq          F        PR(>F)\n",
       "subject   11.0  38.797808  3.527073  10.785875  1.250117e-09\n",
       "Residual  48.0  15.696411  0.327009        NaN           NaN"
      ]
     },
     "execution_count": 5,
     "metadata": {},
     "output_type": "execute_result"
    }
   ],
   "source": [
    "import statsmodels.api as sm\n",
    "from statsmodels.formula.api import ols\n",
    "\n",
    "data['subject'] = data['subject'].astype(str)\n",
    "lm = ols('errors ~ subject',data=data).fit()\n",
    "table = sm.stats.anova_lm(lm)\n",
    "table"
   ]
  },
  {
   "cell_type": "markdown",
   "metadata": {},
   "source": [
    "According to the article, \n",
    ">The estimated variance of multiple between-method differences for the same subject is the mean square error, of the residual mean square."
   ]
  },
  {
   "cell_type": "code",
   "execution_count": 6,
   "metadata": {},
   "outputs": [
    {
     "data": {
      "text/plain": [
       "0.3270085565476191"
      ]
     },
     "execution_count": 6,
     "metadata": {},
     "output_type": "execute_result"
    }
   ],
   "source": [
    "var_intra = table.mean_sq['Residual']\n",
    "var_intra"
   ]
  },
  {
   "cell_type": "markdown",
   "metadata": {},
   "source": [
    "## Estimate $\\sigma^2_{\\text{inter}}$"
   ]
  },
  {
   "cell_type": "markdown",
   "metadata": {},
   "source": [
    "The variance for differences between the average **across subjects** can also be found from the ANOVA table, using the difference between the mean squares for subjects and the residual mean square."
   ]
  },
  {
   "cell_type": "code",
   "execution_count": 7,
   "metadata": {},
   "outputs": [
    {
     "data": {
      "text/plain": [
       "3.2000648633658013"
      ]
     },
     "execution_count": 7,
     "metadata": {},
     "output_type": "execute_result"
    }
   ],
   "source": [
    "var_inter = table.mean_sq['subject'] - table.mean_sq['Residual']\n",
    "var_inter"
   ]
  },
  {
   "cell_type": "markdown",
   "metadata": {},
   "source": [
    "We must divide this by a value which depends on the number of observation on each subject. If the number of observations on subject $i$ is $m_i$, this divisor is \n",
    "\n",
    "$$\\frac{\\left(\\sum  m_i\\right)^2 - \\sum m_i^2}{(n-1)\\sum m_i}$$\n",
    "\n",
    "where $n$ is the number of subjects. If all subject have the same number of observations $m$, this factor reduces to $m$."
   ]
  },
  {
   "cell_type": "code",
   "execution_count": 8,
   "metadata": {},
   "outputs": [
    {
     "name": "stdout",
     "output_type": "stream",
     "text": [
      "Sum of squares is 312.\n"
     ]
    },
    {
     "data": {
      "text/plain": [
       "4.9818181818181815"
      ]
     },
     "execution_count": 8,
     "metadata": {},
     "output_type": "execute_result"
    }
   ],
   "source": [
    "num_samples = data.shape[0]\n",
    "square_of_sum = num_samples ** 2\n",
    "subject_count = data.groupby('subject').count()['errors']\n",
    "n_subjects = subject_count.shape[0]\n",
    "sum_of_squares = sum(subject_count ** 2)\n",
    "\n",
    "print(f'Sum of squares is {sum_of_squares}.')\n",
    "\n",
    "denominator = (square_of_sum - sum_of_squares)/((n_subjects-1) * num_samples)\n",
    "denominator"
   ]
  },
  {
   "cell_type": "code",
   "execution_count": 9,
   "metadata": {},
   "outputs": [
    {
     "data": {
      "text/plain": [
       "0.6423487864420404"
      ]
     },
     "execution_count": 9,
     "metadata": {},
     "output_type": "execute_result"
    }
   ],
   "source": [
    "var_inter = var_inter / denominator\n",
    "var_inter"
   ]
  },
  {
   "cell_type": "markdown",
   "metadata": {},
   "source": [
    "## Calculate total variance"
   ]
  },
  {
   "cell_type": "markdown",
   "metadata": {},
   "source": [
    "The total variance for single differences on different subjects is then $\\sigma_{\\text{inter}} + \\sigma_{\\text{intra}}$"
   ]
  },
  {
   "cell_type": "code",
   "execution_count": 10,
   "metadata": {
    "scrolled": true
   },
   "outputs": [
    {
     "data": {
      "text/plain": [
       "0.9693573429896596"
      ]
     },
     "execution_count": 10,
     "metadata": {},
     "output_type": "execute_result"
    }
   ],
   "source": [
    "var = var_inter + var_intra\n",
    "var"
   ]
  },
  {
   "cell_type": "markdown",
   "metadata": {},
   "source": [
    "If the subject differences weren't accounted, the variance would be:"
   ]
  },
  {
   "cell_type": "code",
   "execution_count": 13,
   "metadata": {},
   "outputs": [
    {
     "data": {
      "text/plain": [
       "0.9236308192090397"
      ]
     },
     "execution_count": 13,
     "metadata": {},
     "output_type": "execute_result"
    }
   ],
   "source": [
    "var_all = data['errors'].std() ** 2\n",
    "var_all"
   ]
  },
  {
   "cell_type": "markdown",
   "metadata": {},
   "source": [
    "## Make Bland-Altman plot"
   ]
  },
  {
   "cell_type": "code",
   "execution_count": 11,
   "metadata": {},
   "outputs": [
    {
     "data": {
      "text/plain": [
       "0.9845594664567802"
      ]
     },
     "execution_count": 11,
     "metadata": {},
     "output_type": "execute_result"
    }
   ],
   "source": [
    "stdev = np.sqrt(var)\n",
    "stdev"
   ]
  },
  {
   "cell_type": "code",
   "execution_count": 12,
   "metadata": {},
   "outputs": [
    {
     "data": {
      "text/plain": [
       "0.6021666666666667"
      ]
     },
     "execution_count": 12,
     "metadata": {},
     "output_type": "execute_result"
    }
   ],
   "source": [
    "mean = data['errors'].mean()\n",
    "mean"
   ]
  },
  {
   "cell_type": "code",
   "execution_count": 29,
   "metadata": {
    "code_folding": []
   },
   "outputs": [
    {
     "data": {
      "image/png": "[encoded data removed]",
      "text/plain": [
       "<Figure size 864x576 with 1 Axes>"
      ]
     },
     "metadata": {
      "needs_background": "light"
     },
     "output_type": "display_data"
    }
   ],
   "source": [
    "plt.subplots(figsize=(12, 8))\n",
    "for x in set(data['subject']):\n",
    "    d = data[data['subject'] == x]\n",
    "    plt.scatter(d['means'], d['errors'], marker=f'${x}$', s=100)\n",
    "\n",
    "plt.axhline(mean, linestyle='--', c='black')\n",
    "plt.axhline(mean + 1.96 * stdev, linestyle='--', c='red')\n",
    "plt.axhline(mean - 1.96 * stdev, linestyle='--', c='red')\n",
    "plt.ylabel('Difference, RV - IC')\n",
    "plt.xlabel('Average of RV and IC')\n",
    "plt.show()"
   ]
  },
  {
   "cell_type": "code",
   "execution_count": null,
   "metadata": {},
   "outputs": [],
   "source": []
  }
 ],
 "metadata": {
  "kernelspec": {
   "display_name": "Python 3",
   "language": "python",
   "name": "python3"
  },
  "language_info": {
   "codemirror_mode": {
    "name": "ipython",
    "version": 3
   },
   "file_extension": ".py",
   "mimetype": "text/x-python",
   "name": "python",
   "nbconvert_exporter": "python",
   "pygments_lexer": "ipython3",
   "version": "3.6.9"
  },
  "toc": {
   "base_numbering": 1,
   "nav_menu": {},
   "number_sections": true,
   "sideBar": true,
   "skip_h1_title": false,
   "title_cell": "Table of Contents",
   "title_sidebar": "Contents",
   "toc_cell": false,
   "toc_position": {},
   "toc_section_display": true,
   "toc_window_display": false
  }
 },
 "nbformat": 4,
 "nbformat_minor": 4
}
