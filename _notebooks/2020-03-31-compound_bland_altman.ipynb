{
 "cells": [
  {
   "cell_type": "markdown",
   "metadata": {},
   "source": [
    "# Agreement between methods of measurement with multiple observations per individual\n",
    "> Understanding this Bland-Altman article.\n",
    "\n",
    "- toc: true \n",
    "- badges: true\n",
    "- comments: true\n",
    "- categories: [jupyter]\n",
    "- image: images/chart-preview.png"
   ]
  },
  {
   "cell_type": "code",
   "execution_count": 1,
   "metadata": {},
   "outputs": [],
   "source": [
    "# hide\n",
    "import numpy as np\n",
    "import pandas as pd\n",
    "import matplotlib.pyplot as plt"
   ]
  },
  {
   "cell_type": "markdown",
   "metadata": {},
   "source": [
    "# Introduction\n",
    "\n",
    "The limits of agreement (LoA) method is widely used for assessing the agreement between two methods of measurement. The case that motivates this method is when each individual has one measurement made by each of the methods. \n",
    "\n",
    "However, it may be also the case that we have replicate measurements by each method on each individual, so that the repeatability of the two methods can be compared. This paper shows how to apply the LoA method when we have repeated measurements on each of a group of subjects. In this case, there are two separate situations: when the true value varies and when the true value is constant.\n",
    "\n",
    "**This post covers only the case where the true value varies.**"
   ]
  },
  {
   "cell_type": "markdown",
   "metadata": {},
   "source": [
    "# Concepts"
   ]
  },
  {
   "cell_type": "code",
   "execution_count": 20,
   "metadata": {
    "scrolled": true
   },
   "outputs": [
    {
     "data": {
      "text/html": [
       "<div>\n",
       "<style scoped>\n",
       "    .dataframe tbody tr th:only-of-type {\n",
       "        vertical-align: middle;\n",
       "    }\n",
       "\n",
       "    .dataframe tbody tr th {\n",
       "        vertical-align: top;\n",
       "    }\n",
       "\n",
       "    .dataframe thead th {\n",
       "        text-align: right;\n",
       "    }\n",
       "</style>\n",
       "<table border=\"1\" class=\"dataframe\">\n",
       "  <thead>\n",
       "    <tr style=\"text-align: right;\">\n",
       "      <th></th>\n",
       "      <th>subject</th>\n",
       "      <th>method1</th>\n",
       "      <th>method2</th>\n",
       "      <th>errors</th>\n",
       "      <th>means</th>\n",
       "    </tr>\n",
       "  </thead>\n",
       "  <tbody>\n",
       "    <tr>\n",
       "      <th>0</th>\n",
       "      <td>1</td>\n",
       "      <td>7.83</td>\n",
       "      <td>6.57</td>\n",
       "      <td>1.26</td>\n",
       "      <td>7.200</td>\n",
       "    </tr>\n",
       "    <tr>\n",
       "      <th>1</th>\n",
       "      <td>1</td>\n",
       "      <td>7.42</td>\n",
       "      <td>5.62</td>\n",
       "      <td>1.80</td>\n",
       "      <td>6.520</td>\n",
       "    </tr>\n",
       "    <tr>\n",
       "      <th>2</th>\n",
       "      <td>1</td>\n",
       "      <td>7.89</td>\n",
       "      <td>6.90</td>\n",
       "      <td>0.99</td>\n",
       "      <td>7.395</td>\n",
       "    </tr>\n",
       "    <tr>\n",
       "      <th>3</th>\n",
       "      <td>1</td>\n",
       "      <td>7.12</td>\n",
       "      <td>6.57</td>\n",
       "      <td>0.55</td>\n",
       "      <td>6.845</td>\n",
       "    </tr>\n",
       "    <tr>\n",
       "      <th>4</th>\n",
       "      <td>1</td>\n",
       "      <td>7.88</td>\n",
       "      <td>6.35</td>\n",
       "      <td>1.53</td>\n",
       "      <td>7.115</td>\n",
       "    </tr>\n",
       "  </tbody>\n",
       "</table>\n",
       "</div>"
      ],
      "text/plain": [
       "   subject  method1  method2  errors  means\n",
       "0        1     7.83     6.57    1.26  7.200\n",
       "1        1     7.42     5.62    1.80  6.520\n",
       "2        1     7.89     6.90    0.99  7.395\n",
       "3        1     7.12     6.57    0.55  6.845\n",
       "4        1     7.88     6.35    1.53  7.115"
      ]
     },
     "execution_count": 20,
     "metadata": {},
     "output_type": "execute_result"
    }
   ],
   "source": [
    "data = pd.read_csv('observations_310320.csv')\n",
    "data['errors'] = data['method1'] - data['method2']\n",
    "data['means'] = (data['method1'] + data['method2'])/2\n",
    "# data['errors'] = data['errors'] / data['means']\n",
    "data.head()"
   ]
  },
  {
   "cell_type": "markdown",
   "metadata": {},
   "source": [
    "# Method where the true value varies\n",
    "\n"
   ]
  },
  {
   "cell_type": "markdown",
   "metadata": {},
   "source": [
    "We want to estimate the mean difference and the standard deviation of differences about the mean. To do this, we must estimate two different variances:\n",
    "* That for repeated differences between the two methods on **the same subject**\n",
    "* That for repeated differences **between the averages** of the two methods **across subjects** \n",
    "\n",
    "The model is that the observed difference is the sum of the mean difference (bias), a random between subjects effect (heterogeneity) and a random error within the subject.\n",
    "\n",
    "$$e = \\mu + w_{\\text{inter}} + w_{\\text{intra}}$$\n",
    "\n",
    "This method requires two major assumptions:\n",
    "\n",
    "* **The within-subject (intra) variance is constant and observations within the subject are independent**, i.e. the variance that originates the errors in our model for two given subjects is the same, but the mean is not necessarily the same.\n",
    "\n",
    "* **The repeated differences for a single subject are independent**."
   ]
  },
  {
   "cell_type": "markdown",
   "metadata": {},
   "source": [
    "## Estimate $\\sigma^2_{\\text{intra}}$"
   ]
  },
  {
   "cell_type": "markdown",
   "metadata": {},
   "source": [
    "This variance can be estimated using the difference between matched pairs as a response. First, it should be checked that the variance is unrelated to the mean. Plotting the mean measurement for each subject against the standard deviation should show if there is any suggestion of that."
   ]
  },
  {
   "cell_type": "code",
   "execution_count": 4,
   "metadata": {
    "scrolled": true
   },
   "outputs": [
    {
     "data": {
      "image/png": "[encoded data removed]",
      "text/plain": [
       "<Figure size 432x288 with 1 Axes>"
      ]
     },
     "metadata": {
      "needs_background": "light"
     },
     "output_type": "display_data"
    }
   ],
   "source": [
    "subject_groups = data.groupby('subject')\n",
    "subj_variance = subject_groups.std()['errors'].sort_index()\n",
    "subj_mean = subject_groups.mean()['errors'].sort_index()\n",
    "\n",
    "plt.scatter(subj_mean, subj_variance)\n",
    "plt.ylabel('Standard deviation')\n",
    "plt.xlabel('Mean')\n",
    "plt.show()"
   ]
  },
  {
   "cell_type": "markdown",
   "metadata": {},
   "source": [
    "According to the article,\n",
    "\n",
    ">There is no suggestion that there is a relationship between the variability of the differences and the magnitude of the ejection fraction."
   ]
  },
  {
   "cell_type": "markdown",
   "metadata": {},
   "source": [
    "The one-way ANOVA is shown in the table below."
   ]
  },
  {
   "cell_type": "code",
   "execution_count": 5,
   "metadata": {},
   "outputs": [
    {
     "data": {
      "text/html": [
       "<div>\n",
       "<style scoped>\n",
       "    .dataframe tbody tr th:only-of-type {\n",
       "        vertical-align: middle;\n",
       "    }\n",
       "\n",
       "    .dataframe tbody tr th {\n",
       "        vertical-align: top;\n",
       "    }\n",
       "\n",
       "    .dataframe thead th {\n",
       "        text-align: right;\n",
       "    }\n",
       "</style>\n",
       "<table border=\"1\" class=\"dataframe\">\n",
       "  <thead>\n",
       "    <tr style=\"text-align: right;\">\n",
       "      <th></th>\n",
       "      <th>df</th>\n",
       "      <th>sum_sq</th>\n",
       "      <th>mean_sq</th>\n",
       "      <th>F</th>\n",
       "      <th>PR(&gt;F)</th>\n",
       "    </tr>\n",
       "  </thead>\n",
       "  <tbody>\n",
       "    <tr>\n",
       "      <th>subject</th>\n",
       "      <td>11.0</td>\n",
       "      <td>43.567049</td>\n",
       "      <td>3.960641</td>\n",
       "      <td>17.397988</td>\n",
       "      <td>3.436678e-13</td>\n",
       "    </tr>\n",
       "    <tr>\n",
       "      <th>Residual</th>\n",
       "      <td>48.0</td>\n",
       "      <td>10.927169</td>\n",
       "      <td>0.227649</td>\n",
       "      <td>NaN</td>\n",
       "      <td>NaN</td>\n",
       "    </tr>\n",
       "  </tbody>\n",
       "</table>\n",
       "</div>"
      ],
      "text/plain": [
       "            df     sum_sq   mean_sq          F        PR(>F)\n",
       "subject   11.0  43.567049  3.960641  17.397988  3.436678e-13\n",
       "Residual  48.0  10.927169  0.227649        NaN           NaN"
      ]
     },
     "execution_count": 5,
     "metadata": {},
     "output_type": "execute_result"
    }
   ],
   "source": [
    "import statsmodels.api as sm\n",
    "from statsmodels.formula.api import ols\n",
    "\n",
    "data['subject'] = data['subject'].astype(str)\n",
    "lm = ols('errors ~ subject',data=data).fit()\n",
    "table = sm.stats.anova_lm(lm)\n",
    "table"
   ]
  },
  {
   "cell_type": "markdown",
   "metadata": {},
   "source": [
    "According to the article, \n",
    ">The estimated variance of multiple between-method differences for the same subject is the mean square error, of the residual mean square."
   ]
  },
  {
   "cell_type": "code",
   "execution_count": 6,
   "metadata": {},
   "outputs": [
    {
     "data": {
      "text/plain": [
       "0.22764935515873017"
      ]
     },
     "execution_count": 6,
     "metadata": {},
     "output_type": "execute_result"
    }
   ],
   "source": [
    "var_intra = table.mean_sq['Residual']\n",
    "var_intra"
   ]
  },
  {
   "cell_type": "markdown",
   "metadata": {},
   "source": [
    "## Estimate $\\sigma^2_{\\text{inter}}$"
   ]
  },
  {
   "cell_type": "markdown",
   "metadata": {},
   "source": [
    "The variance for differences between the average **across subjects** can also be found from the ANOVA table, using the difference between the mean squares for subjects and the residual mean square."
   ]
  },
  {
   "cell_type": "code",
   "execution_count": 7,
   "metadata": {},
   "outputs": [
    {
     "data": {
      "text/plain": [
       "3.7329914889971145"
      ]
     },
     "execution_count": 7,
     "metadata": {},
     "output_type": "execute_result"
    }
   ],
   "source": [
    "var_inter = table.mean_sq['subject'] - table.mean_sq['Residual']\n",
    "var_inter"
   ]
  },
  {
   "cell_type": "markdown",
   "metadata": {},
   "source": [
    "We must divide this by a value which depends on the number of observation on each subject. If the number of observations on subject $i$ is $m_i$, this divisor is \n",
    "\n",
    "$$\\frac{\\left(\\sum  m_i\\right)^2 - \\sum m_i^2}{(n-1)\\sum m_i}$$\n",
    "\n",
    "where $n$ is the number of subjects. If all subject have the same number of observations $m$, this factor reduces to $m$."
   ]
  },
  {
   "cell_type": "code",
   "execution_count": 8,
   "metadata": {},
   "outputs": [
    {
     "name": "stdout",
     "output_type": "stream",
     "text": [
      "Sum of squares is 314.\n"
     ]
    },
    {
     "data": {
      "text/plain": [
       "4.9787878787878785"
      ]
     },
     "execution_count": 8,
     "metadata": {},
     "output_type": "execute_result"
    }
   ],
   "source": [
    "num_samples = data.shape[0]\n",
    "square_of_sum = num_samples ** 2\n",
    "subject_count = data.groupby('subject').count()['errors']\n",
    "n_subjects = subject_count.shape[0]\n",
    "sum_of_squares = sum(subject_count ** 2)\n",
    "\n",
    "print(f'Sum of squares is {sum_of_squares}.')\n",
    "\n",
    "denominator = (square_of_sum - sum_of_squares)/((n_subjects-1) * num_samples)\n",
    "denominator"
   ]
  },
  {
   "cell_type": "code",
   "execution_count": 9,
   "metadata": {},
   "outputs": [
    {
     "data": {
      "text/plain": [
       "0.7497791791655799"
      ]
     },
     "execution_count": 9,
     "metadata": {},
     "output_type": "execute_result"
    }
   ],
   "source": [
    "var_inter = var_inter / denominator\n",
    "var_inter"
   ]
  },
  {
   "cell_type": "markdown",
   "metadata": {},
   "source": [
    "## Calculate total variance"
   ]
  },
  {
   "cell_type": "markdown",
   "metadata": {},
   "source": [
    "The total variance for single differences on different subjects is then $\\sigma_{\\text{inter}} + \\sigma_{\\text{intra}}$"
   ]
  },
  {
   "cell_type": "code",
   "execution_count": 10,
   "metadata": {
    "scrolled": true
   },
   "outputs": [
    {
     "data": {
      "text/plain": [
       "0.9774285343243101"
      ]
     },
     "execution_count": 10,
     "metadata": {},
     "output_type": "execute_result"
    }
   ],
   "source": [
    "var = var_inter + var_intra\n",
    "var"
   ]
  },
  {
   "cell_type": "markdown",
   "metadata": {},
   "source": [
    "If the subject differences weren't accounted, the variance would be:"
   ]
  },
  {
   "cell_type": "code",
   "execution_count": 11,
   "metadata": {},
   "outputs": [
    {
     "data": {
      "text/plain": [
       "0.9236308192090397"
      ]
     },
     "execution_count": 11,
     "metadata": {},
     "output_type": "execute_result"
    }
   ],
   "source": [
    "var_all = data['errors'].std() ** 2\n",
    "var_all"
   ]
  },
  {
   "cell_type": "markdown",
   "metadata": {},
   "source": [
    "If only the mean differences were accounted, the variance would be"
   ]
  },
  {
   "cell_type": "code",
   "execution_count": 19,
   "metadata": {},
   "outputs": [
    {
     "data": {
      "text/plain": [
       "0.849725117999725"
      ]
     },
     "execution_count": 19,
     "metadata": {},
     "output_type": "execute_result"
    }
   ],
   "source": [
    "var_means = data.groupby('subject').mean()['errors'].std() ** 2\n",
    "var_means"
   ]
  },
  {
   "cell_type": "markdown",
   "metadata": {},
   "source": [
    "## Make Bland-Altman plot"
   ]
  },
  {
   "cell_type": "code",
   "execution_count": 14,
   "metadata": {},
   "outputs": [
    {
     "data": {
      "text/plain": [
       "0.9886498542579724"
      ]
     },
     "execution_count": 14,
     "metadata": {},
     "output_type": "execute_result"
    }
   ],
   "source": [
    "stdev = np.sqrt(var)\n",
    "stdev"
   ]
  },
  {
   "cell_type": "code",
   "execution_count": 15,
   "metadata": {},
   "outputs": [
    {
     "data": {
      "text/plain": [
       "0.6021666666666667"
      ]
     },
     "execution_count": 15,
     "metadata": {},
     "output_type": "execute_result"
    }
   ],
   "source": [
    "mean = data['errors'].mean()\n",
    "mean"
   ]
  },
  {
   "cell_type": "code",
   "execution_count": 16,
   "metadata": {
    "code_folding": [],
    "hide_input": true
   },
   "outputs": [
    {
     "data": {
      "image/png": "[encoded data removed]",
      "text/plain": [
       "<Figure size 864x576 with 1 Axes>"
      ]
     },
     "metadata": {
      "needs_background": "light"
     },
     "output_type": "display_data"
    }
   ],
   "source": [
    "plt.subplots(figsize=(12, 8))\n",
    "for x in set(data['subject']):\n",
    "    d = data[data['subject'] == x]\n",
    "    plt.scatter(d['means'], d['errors'], marker=f'${x}$', s=100)\n",
    "\n",
    "plt.axhline(mean, linestyle='--', c='black')\n",
    "plt.axhline(mean + 1.96 * stdev, linestyle='--', c='red')\n",
    "plt.axhline(mean - 1.96 * stdev, linestyle='--', c='red')\n",
    "plt.ylabel('Difference, RV - IC')\n",
    "plt.xlabel('Average of RV and IC')\n",
    "plt.show()"
   ]
  },
  {
   "cell_type": "markdown",
   "metadata": {},
   "source": []
  },
  {
   "cell_type": "code",
   "execution_count": null,
   "metadata": {},
   "outputs": [],
   "source": []
  }
 ],
 "metadata": {
  "kernelspec": {
   "display_name": "Python 3",
   "language": "python",
   "name": "python3"
  },
  "language_info": {
   "codemirror_mode": {
    "name": "ipython",
    "version": 3
   },
   "file_extension": ".py",
   "mimetype": "text/x-python",
   "name": "python",
   "nbconvert_exporter": "python",
   "pygments_lexer": "ipython3",
   "version": "3.6.9"
  },
  "toc": {
   "base_numbering": 1,
   "nav_menu": {},
   "number_sections": true,
   "sideBar": true,
   "skip_h1_title": false,
   "title_cell": "Table of Contents",
   "title_sidebar": "Contents",
   "toc_cell": false,
   "toc_position": {},
   "toc_section_display": true,
   "toc_window_display": false
  }
 },
 "nbformat": 4,
 "nbformat_minor": 4
}
